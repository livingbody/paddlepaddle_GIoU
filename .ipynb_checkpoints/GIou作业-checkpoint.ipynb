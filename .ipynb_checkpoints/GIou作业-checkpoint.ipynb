{
 "cells": [
  {
   "cell_type": "markdown",
   "id": "9e77eaef-a0be-4e4e-b9ab-caace54f62cc",
   "metadata": {},
   "source": [
    "# GIoU模块转写及对齐\n",
    "## GIoU相关资料\n",
    "原论文： https://giou.stanford.edu/GIoU.pdf\n",
    "\n",
    "相关知识介绍： https://zhuanlan.zhihu.com/p/94799295\n",
    "# 作业要求\n",
    "使用PaddlePaddle实现GIoU\n",
    "\n",
    "使用/home/aistudio/work/test_giou.py脚本，对齐PaddlePaddle实现与Pytorch实现，即运行test_giou.py后，出现success\n",
    "# 提示\n",
    "Pytorch参考实现位于/home/aistudio/work/giou_torch.py，另外AIStudio上无法直接运行Pytorch脚本，对齐时需要使用自己的环境。\n",
    "\n",
    "测试case位于/home/aistudio/work/test_giou.py\n",
    "\n",
    "PaddlePaddle实现脚本需要实现在/home/aistudio/work/giou_paddle.py中"
   ]
  },
  {
   "cell_type": "code",
   "execution_count": 12,
   "id": "e887eeac-4311-4369-95d5-e623707f31ee",
   "metadata": {
    "tags": []
   },
   "outputs": [],
   "source": [
    "\n",
    "import torch\n",
    "\n",
    "def giou_t(bboxes1, bboxes2, eps=1e-6):\n",
    "    \"\"\"Calculate overlap between two set of bboxes.\n",
    "    Note:\n",
    "\n",
    "    calculate the GIoU between each aligned pair of bboxes1 and bboxes2.\n",
    "    Args:\n",
    "        bboxes1 (Tensor): shape (m, 4) in <x1, y1, x2, y2> format or empty.\n",
    "        bboxes2 (Tensor): shape (m, 4) in <x1, y1, x2, y2> format or empty.\n",
    "        eps (float, optional): A value added to the denominator for numerical\n",
    "            stability. Default 1e-6.\n",
    "    Returns:\n",
    "        Tensor: shape (m, )\n",
    "    Example:\n",
    "        >>> bboxes1 = torch.FloatTensor([\n",
    "        >>>     [0., 0., 10., 10.],\n",
    "        >>>     [10., 10., 20., 20.],\n",
    "        >>>     [32., 32., 38., 42.],\n",
    "        >>> ])\n",
    "        >>> bboxes2 = torch.FloatTensor([\n",
    "        >>>     [0., 0., 10., 20.],\n",
    "        >>>     [0., 10., 10., 19.],\n",
    "        >>>     [10., 10., 20., 20.],\n",
    "        >>> ])\n",
    "        >>> overlaps = giou(bboxes1, bboxes2)\n",
    "        >>> assert overlaps.shape == (3, 3)\n",
    "        >>> overlaps = bbox_overlaps(bboxes1, bboxes2)\n",
    "        >>> assert overlaps.shape == (3, )\n",
    "    \"\"\"\n",
    "\n",
    "    rows = bboxes1.size(-2)\n",
    "    cols = bboxes2.size(-2)\n",
    "    assert rows == cols\n",
    "\n",
    "    area1 = (bboxes1[:, 2] - bboxes1[:, 0]) * (\n",
    "        bboxes1[:, 3] - bboxes1[:, 1])\n",
    "    area2 = (bboxes2[:, 2] - bboxes2[:, 0]) * (\n",
    "        bboxes2[:, 3] - bboxes2[:, 1])\n",
    "\n",
    "    lt = torch.max(bboxes1[:, :2], bboxes2[:, :2])  # [rows, 2]\n",
    "    rb = torch.min(bboxes1[:, 2:], bboxes2[:, 2:])  # [rows, 2]\n",
    "\n",
    "    wh = (rb - lt).clamp(min=0, max=None)\n",
    "    overlap = wh[:, 0] * wh[:, 1]\n",
    "\n",
    "    union = area1 + area2 - overlap\n",
    "    enclosed_lt = torch.min(bboxes1[:, :2], bboxes2[:, :2])\n",
    "    enclosed_rb = torch.max(bboxes1[:, 2:], bboxes2[:, 2:])\n",
    "\n",
    "    eps = union.new_tensor([eps])\n",
    "    union = torch.max(union, eps)\n",
    "    ious = overlap / union\n",
    "\n",
    "    # calculate gious\n",
    "    enclose_wh = (enclosed_rb - enclosed_lt).clamp(min=0, max=None)\n",
    "    enclose_area = enclose_wh[:, 0] * enclose_wh[:, 1]\n",
    "    enclose_area = torch.max(enclose_area, eps)\n",
    "    gious = ious - (enclose_area - union) / enclose_area\n",
    "    return gious.numpy()\n"
   ]
  },
  {
   "cell_type": "code",
   "execution_count": 11,
   "id": "c5081041-9871-49e7-8c32-28dfb15e4e1e",
   "metadata": {},
   "outputs": [],
   "source": [
    "!python giou_torch.py"
   ]
  },
  {
   "cell_type": "code",
   "execution_count": 10,
   "id": "6533ae9d-28c8-48c7-a9bf-907291a48d2d",
   "metadata": {
    "slideshow": {
     "slide_type": "slide"
    },
    "tags": []
   },
   "outputs": [
    {
     "name": "stdout",
     "output_type": "stream",
     "text": [
      "[ 1.        -0.05      -0.8214286]\n"
     ]
    }
   ],
   "source": [
    "bboxes1 = [\n",
    "    [0., 0., 10., 10.],\n",
    "    [10., 10., 20., 20.],\n",
    "    [32., 32., 38., 42.],\n",
    "]\n",
    "\n",
    "bboxes2 = [\n",
    "    [0., 0., 10., 10.],\n",
    "    [0., 10., 10., 19.],\n",
    "    [10., 10., 20., 20.],\n",
    "]\n",
    "\n",
    "\n",
    "torch_bboxes1 = torch.tensor(bboxes1)\n",
    "torch_bboxes2 = torch.tensor(bboxes2)\n",
    "torch_overlaps = giou_t(torch_bboxes1, torch_bboxes2)\n",
    "print(torch_overlaps)"
   ]
  },
  {
   "cell_type": "code",
   "execution_count": 16,
   "id": "b44e33d6-0c81-41f4-9923-5217163e86cb",
   "metadata": {},
   "outputs": [
    {
     "name": "stdout",
     "output_type": "stream",
     "text": [
      "[ 1.        -0.05      -0.8214286]\n"
     ]
    }
   ],
   "source": [
    "import paddle\n",
    "\n",
    "def giou_p(bboxes1, bboxes2, eps=1e-6):\n",
    "    rows = bboxes1.shape[-2]\n",
    "    cols = bboxes2.shape[-2]\n",
    "    assert rows == cols\n",
    "    area1 = (bboxes1[:, 2] - bboxes1[:, 0]) * (\n",
    "        bboxes1[:, 3] - bboxes1[:, 1])\n",
    "    area2 = (bboxes2[:, 2] - bboxes2[:, 0]) * (\n",
    "        bboxes2[:, 3] - bboxes2[:, 1])\n",
    "\n",
    "    lt = paddle.maximum(bboxes1[:, :2], bboxes2[:, :2])  # [rows, 2]\n",
    "    rb = paddle.minimum(bboxes1[:, 2:], bboxes2[:, 2:])  # [rows, 2]\n",
    "\n",
    "    wh = (rb - lt).clip(min=0, max=None)\n",
    "    overlap = wh[:, 0] * wh[:, 1]\n",
    "\n",
    "    union = area1 + area2 - overlap\n",
    "    enclosed_lt = paddle.minimum(bboxes1[:, :2], bboxes2[:, :2])\n",
    "    enclosed_rb = paddle.maximum(bboxes1[:, 2:], bboxes2[:, 2:])\n",
    "\n",
    "    eps = paddle.to_tensor([1e-6])\n",
    "    union = paddle.maximum(union, eps)\n",
    "    ious = overlap / union\n",
    "\n",
    "    enclose_wh = (enclosed_rb - enclosed_lt).clip(min=0, max=None)\n",
    "    enclose_area = enclose_wh[:, 0] * enclose_wh[:, 1]\n",
    "    enclose_area = paddle.maximum(enclose_area, eps)\n",
    "    gious = ious - (enclose_area - union) / enclose_area\n",
    "\n",
    "    return gious.numpy()\n",
    "\n",
    "bboxes1 = [\n",
    "    [0., 0., 10., 10.],\n",
    "    [10., 10., 20., 20.],\n",
    "    [32., 32., 38., 42.],\n",
    "]\n",
    "\n",
    "bboxes2 = [\n",
    "    [0., 0., 10., 10.],\n",
    "    [0., 10., 10., 19.],\n",
    "    [10., 10., 20., 20.],\n",
    "]\n",
    "\n",
    "\n",
    "paddle_bboxes1 = paddle.to_tensor(bboxes1)\n",
    "paddle_bboxes2 = paddle.to_tensor(bboxes2)\n",
    "paddle_overlaps = giou_p(paddle_bboxes1, paddle_bboxes2)\n",
    "\n",
    "print(paddle_overlaps)"
   ]
  },
  {
   "cell_type": "code",
   "execution_count": 17,
   "id": "29c12651-5af5-44bd-9113-89b363ba547e",
   "metadata": {},
   "outputs": [
    {
     "name": "stdout",
     "output_type": "stream",
     "text": [
      "success!\n"
     ]
    }
   ],
   "source": [
    "diff = (paddle_overlaps - torch_overlaps).sum()\n",
    "if diff == 0:\n",
    "    print('success!')\n",
    "else:\n",
    "    print('fail...')\n",
    "    print('paddle result is {}'.format(paddle_overlaps))\n",
    "    print('torch result is {}'.format(torch_overlaps))"
   ]
  },
  {
   "cell_type": "code",
   "execution_count": 19,
   "id": "8f0be68f-29cc-4e7f-a403-94a146bd75bf",
   "metadata": {},
   "outputs": [
    {
     "name": "stdout",
     "output_type": "stream",
     "text": [
      "success!\n"
     ]
    },
    {
     "name": "stderr",
     "output_type": "stream",
     "text": [
      "W0822 23:50:04.793823 19540 device_context.cc:404] Please NOTE: device: 0, GPU Compute Capability: 6.1, Driver API Version: 11.4, Runtime API Version: 10.2\n",
      "W0822 23:50:04.799830 19540 device_context.cc:422] device: 0, cuDNN Version: 7.6.\n",
      "F:\\Users\\livingbody\\miniconda3\\envs\\torch\\lib\\site-packages\\win32\\lib\\pywintypes.py:2: DeprecationWarning: the imp module is deprecated in favour of importlib; see the module's documentation for alternative uses\n",
      "  import imp, sys, os\n"
     ]
    }
   ],
   "source": [
    "!python test_giou.py"
   ]
  },
  {
   "cell_type": "code",
   "execution_count": null,
   "id": "4b57a1cf-f47f-426d-81f9-043fb3d3255c",
   "metadata": {},
   "outputs": [],
   "source": []
  }
 ],
 "metadata": {
  "kernelspec": {
   "display_name": "torch",
   "language": "python",
   "name": "torch"
  },
  "language_info": {
   "codemirror_mode": {
    "name": "ipython",
    "version": 3
   },
   "file_extension": ".py",
   "mimetype": "text/x-python",
   "name": "python",
   "nbconvert_exporter": "python",
   "pygments_lexer": "ipython3",
   "version": "3.7.10"
  }
 },
 "nbformat": 4,
 "nbformat_minor": 5
}
